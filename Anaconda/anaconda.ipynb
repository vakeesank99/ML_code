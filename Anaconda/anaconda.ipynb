{
 "cells": [
  {
   "cell_type": "markdown",
   "id": "a0eecc52",
   "metadata": {},
   "source": [
    "You can check out your own install by entering the following command into your terminal."
   ]
  },
  {
   "cell_type": "code",
   "execution_count": null,
   "id": "700dc824",
   "metadata": {},
   "outputs": [],
   "source": [
    "conda list"
   ]
  },
  {
   "cell_type": "markdown",
   "id": "59b9f085",
   "metadata": {},
   "source": [
    "To avoid errors later, it's best to update all the packages in the default environment. Open the Terminal/ Anaconda Prompt application. In the prompt, run the following commands:"
   ]
  },
  {
   "cell_type": "code",
   "execution_count": null,
   "id": "3194c514",
   "metadata": {},
   "outputs": [],
   "source": [
    "conda upgrade conda\n",
    "conda upgrade --all"
   ]
  },
  {
   "cell_type": "markdown",
   "id": "45c822b1",
   "metadata": {},
   "source": [
    "Note: In the previous step, running conda upgrade conda should not be necessary because --all includes the conda package itself, but some users have encountered errors without it."
   ]
  },
  {
   "cell_type": "code",
   "execution_count": null,
   "id": "9b6a6e9e",
   "metadata": {},
   "outputs": [],
   "source": [
    "# Check if pip is already installed, by running this command on Terminal/Anaconda Prompt\n",
    "pip --version\n",
    "\n",
    "# Once you have conda installed, run the command below on Terminal/Anaconda Prompt\n",
    "conda install pip"
   ]
  },
  {
   "cell_type": "code",
   "execution_count": null,
   "id": "a93958f7",
   "metadata": {},
   "outputs": [],
   "source": [
    "conda install PACKAGE_NAME"
   ]
  },
  {
   "cell_type": "code",
   "execution_count": null,
   "id": "cf89e16f",
   "metadata": {},
   "outputs": [],
   "source": [
    "conda remove PACKAGE_NAME"
   ]
  },
  {
   "cell_type": "code",
   "execution_count": 1,
   "id": "9d3d8516",
   "metadata": {},
   "outputs": [
    {
     "name": "stdout",
     "output_type": "stream",
     "text": [
      "Retrieving notices: ...working... done\n",
      "\n",
      "Note: you may need to restart the kernel to use updated packages.\n"
     ]
    },
    {
     "name": "stderr",
     "output_type": "stream",
     "text": [
      "\n",
      "PackageNotInstalledError: Package is not installed in prefix.\n",
      "  prefix: C:\\Users\\user\\.conda\\envs\\Ai_with_py\n",
      "  package name: package_name\n",
      "\n",
      "\n"
     ]
    }
   ],
   "source": [
    "conda update package_name"
   ]
  },
  {
   "cell_type": "code",
   "execution_count": null,
   "id": "ef404ff1",
   "metadata": {},
   "outputs": [],
   "source": [
    "conda search *SEARCH_TERM*"
   ]
  },
  {
   "cell_type": "markdown",
   "id": "ececd33c",
   "metadata": {},
   "source": [
    "environment "
   ]
  },
  {
   "cell_type": "code",
   "execution_count": null,
   "id": "a15ea681",
   "metadata": {},
   "outputs": [],
   "source": [
    "conda create -n env_name [python=X.X] [LIST_OF_PACKAGES]\n",
    "conda create -n my_env python=3.7 numpy Keras"
   ]
  },
  {
   "cell_type": "code",
   "execution_count": null,
   "id": "2444839a",
   "metadata": {},
   "outputs": [],
   "source": [
    "# For  conda 4.6 and later versions on Linux/macOS/Windows, use\n",
    "conda activate my_env\n",
    "#For conda versions prior to 4.6 on Linux/macOS, use \n",
    "source activate my_env\n",
    "#For conda versions prior to 4.6 on Windows, use \n",
    "activate my_env"
   ]
  },
  {
   "cell_type": "code",
   "execution_count": null,
   "id": "18314bc4",
   "metadata": {},
   "outputs": [],
   "source": [
    "# For  conda 4.6 and later versions on Linux/macOS/Windows, use\n",
    "conda deactivate\n",
    "#For conda versions prior to 4.6 on Linux/macOS, use \n",
    "source deactivate\n",
    "#For conda versions prior to 4.6 on Windows, use \n",
    "deactivate"
   ]
  },
  {
   "cell_type": "markdown",
   "id": "00fc2312",
   "metadata": {},
   "source": [
    "A really useful feature is sharing environments so others can install all the packages used in your code, with the correct versions. Let's see all the package-names, including the Python version present in the current environment, using the command:"
   ]
  },
  {
   "cell_type": "code",
   "execution_count": null,
   "id": "147c162c",
   "metadata": {},
   "outputs": [],
   "source": [
    "conda env export"
   ]
  },
  {
   "cell_type": "markdown",
   "id": "f49904cf",
   "metadata": {},
   "source": [
    "In the above image, you can see the name of the environment, and all the dependencies (along with versions) are listed. You can save all the above information to a YAML file, environment.yaml, and later share this file with other users over GitHub or other means. This file will get created (or overwritten) in your current directory."
   ]
  },
  {
   "cell_type": "code",
   "execution_count": null,
   "id": "bc437e31",
   "metadata": {},
   "outputs": [],
   "source": [
    "conda env export > environment.yaml"
   ]
  },
  {
   "cell_type": "markdown",
   "id": "b454ffbd",
   "metadata": {},
   "source": [
    "To create an environment from an environment file, use the following command:"
   ]
  },
  {
   "cell_type": "code",
   "execution_count": null,
   "id": "b78fe952",
   "metadata": {},
   "outputs": [],
   "source": [
    "conda env create -f environment.yaml"
   ]
  },
  {
   "cell_type": "code",
   "execution_count": null,
   "id": "82501c99",
   "metadata": {},
   "outputs": [],
   "source": [
    "# If the environment is not activated\n",
    "conda list -n env_name\n",
    "\n",
    "# If the environment is activated\n",
    "conda list\n",
    "\n",
    "# To see if a specific package, say `scipy` is installed in an environment\n",
    "conda list -n env_name scipy"
   ]
  },
  {
   "cell_type": "markdown",
   "id": "355e5962",
   "metadata": {},
   "source": [
    "Remove the environment"
   ]
  },
  {
   "cell_type": "code",
   "execution_count": null,
   "id": "5e413feb",
   "metadata": {},
   "outputs": [],
   "source": [
    "conda env remove -n env_name"
   ]
  },
  {
   "cell_type": "markdown",
   "id": "0f0d674a",
   "metadata": {},
   "source": [
    "For users not using conda, you may want to share the list of packages installed in the current environment. You can use pip to generate such a list as requirements.txt file using:"
   ]
  },
  {
   "cell_type": "code",
   "execution_count": null,
   "id": "d92676ba",
   "metadata": {},
   "outputs": [],
   "source": [
    "pip freeze > requirements.txt\n",
    "\n",
    "pip install -r requirements.txt"
   ]
  },
  {
   "cell_type": "markdown",
   "id": "a419089a",
   "metadata": {},
   "source": [
    "jupyter notebook"
   ]
  },
  {
   "cell_type": "code",
   "execution_count": null,
   "id": "a55e7f8f",
   "metadata": {},
   "outputs": [],
   "source": [
    "jupyter nbconvert --to FORMAT mynotebook.ipynb\n",
    "\n",
    "\n",
    "# Install the package below, if not already\n",
    "pip install nbconvert\n",
    "jupyter nbconvert --to html mynotebook.ipynb\n",
    "# slideshow\n",
    "jupyter nbconvert notebook.ipynb --to slides --post serve"
   ]
  },
  {
   "cell_type": "code",
   "execution_count": null,
   "id": "f64ce908",
   "metadata": {},
   "outputs": [],
   "source": []
  }
 ],
 "metadata": {
  "kernelspec": {
   "display_name": "Python 3 (ipykernel)",
   "language": "python",
   "name": "python3"
  },
  "language_info": {
   "codemirror_mode": {
    "name": "ipython",
    "version": 3
   },
   "file_extension": ".py",
   "mimetype": "text/x-python",
   "name": "python",
   "nbconvert_exporter": "python",
   "pygments_lexer": "ipython3",
   "version": "3.11.4"
  }
 },
 "nbformat": 4,
 "nbformat_minor": 5
}
