{
 "cells": [
  {
   "cell_type": "markdown",
   "id": "cb965905",
   "metadata": {},
   "source": [
    "Rank of an Array (numpy.ndarray.ndim)"
   ]
  },
  {
   "cell_type": "code",
   "execution_count": null,
   "id": "204f056a",
   "metadata": {},
   "outputs": [],
   "source": [
    "x = np.array([1, 2, 3])\n",
    "x.ndim"
   ]
  },
  {
   "cell_type": "code",
   "execution_count": null,
   "id": "6f24e16f",
   "metadata": {},
   "outputs": [],
   "source": [
    "\n",
    "## We create a 1D ndarray that contains only integers\n",
    "x = np.array([1, 2, 3, 4, 5])\n",
    "\n",
    "## We print information about x\n",
    "print('x = ', x)\n",
    "print('x has dimensions:', x.shape)\n",
    "print('x is an object of type:', type(x))\n",
    "print('The elements in x are of type:', x.dtype)\n",
    "\n",
    "\n",
    "## We create a rank 1 ndarray of floats but set the dtype to int64\n",
    "x = np.array([1.5, 2.2, 3.7, 4.0, 5.9], dtype = np.int64)\n",
    "\n",
    "## We print the dtype x\n",
    "print('x = ', x)\n",
    "print('The elements in x are of type:', x.dtype)"
   ]
  },
  {
   "cell_type": "markdown",
   "id": "7da1835a",
   "metadata": {},
   "source": [
    "save the array"
   ]
  },
  {
   "cell_type": "code",
   "execution_count": null,
   "id": "6d9857a1",
   "metadata": {},
   "outputs": [],
   "source": [
    "## We create a rank 1 ndarray\n",
    "x = np.array([1, 2, 3, 4, 5])\n",
    "\n",
    "## We save x into the current directory as \n",
    "np.save('my_array', x)\n",
    "## We load the saved array from our current directory into variable y\n",
    "y = np.load('my_array.npy')\n"
   ]
  },
  {
   "cell_type": "markdown",
   "id": "f4183b0a",
   "metadata": {},
   "source": [
    "Example 1. Create a Numpy array of zeros with a desired shape"
   ]
  },
  {
   "cell_type": "code",
   "execution_count": null,
   "id": "e973b1eb",
   "metadata": {},
   "outputs": [],
   "source": [
    "# We create a 3 x 4 ndarray full of zeros. \n",
    "X = np.zeros((3,4))\n",
    "\n",
    "# We print X\n",
    "print()\n",
    "print('X = \\n', X)\n",
    "print()"
   ]
  },
  {
   "cell_type": "markdown",
   "id": "16233219",
   "metadata": {},
   "source": [
    "Example 2. Create a Numpy array of ones"
   ]
  },
  {
   "cell_type": "code",
   "execution_count": null,
   "id": "a77cea1c",
   "metadata": {},
   "outputs": [],
   "source": [
    "# We create a 3 x 2 ndarray full of ones. \n",
    "X = np.ones((3,2))\n",
    "\n",
    "# We print X\n",
    "print()\n",
    "print('X = \\n', X)\n",
    "print()"
   ]
  },
  {
   "cell_type": "markdown",
   "id": "24619617",
   "metadata": {},
   "source": [
    "Example 3. Create a Numpy array of constants"
   ]
  },
  {
   "cell_type": "code",
   "execution_count": null,
   "id": "f2ad8dd0",
   "metadata": {},
   "outputs": [],
   "source": [
    "# We create a 2 x 3 ndarray full of fives. \n",
    "X = np.full((2,3), 5) \n",
    "\n",
    "# We print X\n",
    "print()\n",
    "print('X = \\n', X)\n",
    "print()"
   ]
  },
  {
   "cell_type": "markdown",
   "id": "7070e137",
   "metadata": {},
   "source": [
    "Example 4 a. Create a Numpy array of an Identity matrix"
   ]
  },
  {
   "cell_type": "code",
   "execution_count": null,
   "id": "c4ad9f85",
   "metadata": {},
   "outputs": [],
   "source": [
    "# We create a 5 x 5 Identity matrix. \n",
    "X = np.eye(5)\n",
    "\n",
    "# We print X\n",
    "print()\n",
    "print('X = \\n', X)\n",
    "print()"
   ]
  },
  {
   "cell_type": "markdown",
   "id": "5dcb34c2",
   "metadata": {},
   "source": [
    "Example 4 b. Create a Numpy array of constants"
   ]
  },
  {
   "cell_type": "code",
   "execution_count": null,
   "id": "c17782c7",
   "metadata": {},
   "outputs": [],
   "source": [
    "# Create a 4 x 4 diagonal matrix that contains the numbers 10,20,30, and 50\n",
    "# on its main diagonal\n",
    "X = np.diag([10,20,30,50])\n",
    "\n",
    "# We print X\n",
    "print()\n",
    "print('X = \\n', X)\n",
    "print()"
   ]
  },
  {
   "cell_type": "markdown",
   "id": "3b346d73",
   "metadata": {},
   "source": [
    "Example 5. Create a Numpy array of evenly spaced values in a given range"
   ]
  },
  {
   "cell_type": "code",
   "execution_count": null,
   "id": "754f340c",
   "metadata": {},
   "outputs": [],
   "source": [
    "# We create a rank 1 ndarray that has sequential integers from 0 to 9\n",
    "x = np.arange(10)\n",
    "\n",
    "# We create a rank 1 ndarray that has evenly spaced integers from 1 to 13 in steps of 3.\n",
    "x = np.arange(1,14,3)\n",
    "\n",
    "# We create a rank 1 ndarray that has 10 integers evenly spaced between 0 and 25.\n",
    "x = np.linspace(0,25,10)\n",
    "\n",
    "# We create a rank 1 ndarray that has 10 integers evenly spaced between 0 and 25,\n",
    "# with 25 excluded.\n",
    "x = np.linspace(0,25,10, endpoint = False)"
   ]
  },
  {
   "cell_type": "markdown",
   "id": "8e5f13cf",
   "metadata": {},
   "source": [
    "reshape"
   ]
  },
  {
   "cell_type": "code",
   "execution_count": null,
   "id": "63b0d831",
   "metadata": {},
   "outputs": [],
   "source": [
    "# We reshape x into a 4 x 5 ndarray \n",
    "x = np.reshape(x, (4,5))\n",
    "\n",
    "# We create a a rank 1 ndarray with sequential integers from 0 to 19 and\n",
    "# reshape it to a 4 x 5 array \n",
    "Y = np.arange(20).reshape(4, 5)"
   ]
  },
  {
   "cell_type": "markdown",
   "id": "8c7bf327",
   "metadata": {},
   "source": [
    "random function"
   ]
  },
  {
   "cell_type": "code",
   "execution_count": null,
   "id": "b6e64616",
   "metadata": {},
   "outputs": [],
   "source": [
    "# We create a 3 x 3 ndarray with random floats in the half-open interval [0.0, 1.0).\n",
    "X = np.random.random((3,3))\n",
    "\n",
    "# We create a 3 x 2 ndarray with random integers in the half-open interval [4, 15).\n",
    "X = np.random.randint(4,15,size=(3,2))\n",
    "\n",
    "# We create a 1000 x 1000 ndarray of random floats drawn from normal (Gaussian) distribution\n",
    "# with a mean of zero and a standard deviation of 0.1.\n",
    "X = np.random.normal(0, 0.1, size=(1000,1000))\n"
   ]
  },
  {
   "cell_type": "markdown",
   "id": "9a1f6aff",
   "metadata": {},
   "source": [
    " delete elements"
   ]
  },
  {
   "cell_type": "code",
   "execution_count": null,
   "id": "a6d32eb4",
   "metadata": {},
   "outputs": [],
   "source": [
    "# We create a rank 1 ndarray \n",
    "x = np.array([1, 2, 3, 4, 5])\n",
    "\n",
    "# We delete the first and last element of x\n",
    "x = np.delete(x, [0,4])\n",
    "\n",
    "# We delete the first row of y\n",
    "w = np.delete(Y, 0, axis=0)\n",
    "\n",
    "# We delete the first and last column of y\n",
    "v = np.delete(Y, [0,2], axis=1)"
   ]
  },
  {
   "cell_type": "code",
   "execution_count": null,
   "id": "6f94bc24",
   "metadata": {},
   "outputs": [],
   "source": [
    "append elements"
   ]
  },
  {
   "cell_type": "code",
   "execution_count": null,
   "id": "2b36f5e1",
   "metadata": {},
   "outputs": [],
   "source": [
    "# We append a new row containing 7,8,9 to y\n",
    "v = np.append(Y, [[7,8,9]], axis=0)\n",
    "\n",
    "# We append a new column containing 9 and 10 to y\n",
    "q = np.append(Y,[[9],[10]], axis=1)\n",
    "\n",
    "# We insert the integer 3 and 4 between 2 and 5 in x. \n",
    "x = np.insert(x,2,[3,4])\n",
    "\n"
   ]
  },
  {
   "cell_type": "markdown",
   "id": "01e07b07",
   "metadata": {},
   "source": [
    "h stack and vstack\n"
   ]
  },
  {
   "cell_type": "code",
   "execution_count": null,
   "id": "7e18a00f",
   "metadata": {},
   "outputs": [],
   "source": [
    "# We stack x on top of Y\n",
    "z = np.vstack((x,Y))\n",
    "\n",
    "# We stack x on the right of Y. We need to reshape x in order to stack it on the right of Y. \n",
    "w = np.hstack((Y,x.reshape(2,1)))"
   ]
  },
  {
   "cell_type": "markdown",
   "id": "58e58203",
   "metadata": {},
   "source": [
    " Slicing in a 2-D ndarray"
   ]
  },
  {
   "cell_type": "code",
   "execution_count": null,
   "id": "749c02c1",
   "metadata": {},
   "outputs": [],
   "source": [
    "# We select all the elements that are in the 2nd through 4th rows and in the 3rd to 5th columns\n",
    "Z = X[1:4,2:5]\n",
    "\n",
    "# create a copy of the slice using the np.copy() function\n",
    "Z = np.copy(X[1:4,2:5])\n",
    "\n",
    "#  create a copy of the slice using the copy as a method\n",
    "W = X[1:4,2:5].copy()\n",
    "\n"
   ]
  },
  {
   "cell_type": "markdown",
   "id": "ef0fb107",
   "metadata": {},
   "source": [
    "Diagonal elements"
   ]
  },
  {
   "cell_type": "code",
   "execution_count": null,
   "id": "c6e36ddf",
   "metadata": {},
   "outputs": [],
   "source": [
    "# We print the elements in the main diagonal of X\n",
    "print('z =', np.diag(X))\n",
    "print()\n",
    "\n",
    "# We print the elements above the main diagonal of X\n",
    "print('y =', np.diag(X, k=1))\n",
    "print()\n",
    "\n",
    "# We print the elements below the main diagonal of X\n",
    "print('w = ', np.diag(X, k=-1))"
   ]
  },
  {
   "cell_type": "markdown",
   "id": "132594cd",
   "metadata": {},
   "source": [
    "function like a set do"
   ]
  },
  {
   "cell_type": "code",
   "execution_count": null,
   "id": "54c181da",
   "metadata": {},
   "outputs": [],
   "source": [
    "# We print the unique elements of X \n",
    "print('The unique elements in X are:',np.unique(X))"
   ]
  },
  {
   "cell_type": "markdown",
   "id": "7510bede",
   "metadata": {},
   "source": [
    "Boolean indexing"
   ]
  },
  {
   "cell_type": "code",
   "execution_count": null,
   "id": "f355f443",
   "metadata": {},
   "outputs": [],
   "source": [
    "# We use Boolean indexing to select elements in X:\n",
    "print('The elements in X that are greater than 10:', X[X > 10])\n",
    "print('The elements in X that less than or equal to 7:', X[X <= 7])\n",
    "print('The elements in X that are between 10 and 17:', X[(X > 10) & (X < 17)])\n",
    "\n",
    "# We use Boolean indexing to assign the elements that are between 10 and 17 the value of -1\n",
    "X[(X > 10) & (X < 17)] = -1\n",
    "\n",
    "#set operations\n",
    "# We use set operations to compare x and y:\n",
    "print()\n",
    "print('The elements that are both in x and y:', np.intersect1d(x,y))\n",
    "print('The elements that are in x that are not in y:', np.setdiff1d(x,y))\n",
    "print('All the elements of x and y:',np.union1d(x,y))\n",
    "\n"
   ]
  },
  {
   "cell_type": "markdown",
   "id": "214ffbc5",
   "metadata": {},
   "source": [
    "arithmetic functions\n"
   ]
  },
  {
   "cell_type": "code",
   "execution_count": null,
   "id": "3a9e573b",
   "metadata": {},
   "outputs": [],
   "source": [
    "# We apply different mathematical functions to all elements of x\n",
    "print()\n",
    "print('EXP(x) =', np.exp(x))\n",
    "print()\n",
    "print('SQRT(x) =',np.sqrt(x))\n",
    "print()\n",
    "print('POW(x,2) =',np.power(x,2)) # We raise all elements to the power of 2\n",
    "\n",
    "print('Average of all elements in X:', X.mean())\n",
    "print('Average of all elements in the columns of X:', X.mean(axis=0))\n",
    "print('Average of all elements in the rows of X:', X.mean(axis=1))\n",
    "print()\n",
    "print('Sum of all elements in X:', X.sum())\n",
    "print('Sum of all elements in the columns of X:', X.sum(axis=0))\n",
    "print('Sum of all elements in the rows of X:', X.sum(axis=1))\n",
    "print()\n",
    "print('Standard Deviation of all elements in X:', X.std())\n",
    "print('Standard Deviation of all elements in the columns of X:', X.std(axis=0))\n",
    "print('Standard Deviation of all elements in the rows of X:', X.std(axis=1))\n",
    "print()\n",
    "print('Median of all elements in X:', np.median(X))\n",
    "print('Median of all elements in the columns of X:', np.median(X,axis=0))\n",
    "print('Median of all elements in the rows of X:', np.median(X,axis=1))\n",
    "print()\n",
    "print('Maximum value of all elements in X:', X.max())\n",
    "print('Maximum value of all elements in the columns of X:', X.max(axis=0))\n",
    "print('Maximum value of all elements in the rows of X:', X.max(axis=1))\n",
    "print()\n",
    "print('Minimum value of all elements in X:', X.min())\n",
    "print('Minimum value of all elements in the columns of X:', X.min(axis=0))\n",
    "print('Minimum value of all elements in the rows of X:', X.min(axis=1))"
   ]
  }
 ],
 "metadata": {
  "kernelspec": {
   "display_name": "Python 3 (ipykernel)",
   "language": "python",
   "name": "python3"
  },
  "language_info": {
   "codemirror_mode": {
    "name": "ipython",
    "version": 3
   },
   "file_extension": ".py",
   "mimetype": "text/x-python",
   "name": "python",
   "nbconvert_exporter": "python",
   "pygments_lexer": "ipython3",
   "version": "3.11.4"
  }
 },
 "nbformat": 4,
 "nbformat_minor": 5
}
